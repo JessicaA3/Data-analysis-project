{
 "cells": [
  {
   "cell_type": "code",
   "execution_count": 5,
   "id": "ebbc39a5",
   "metadata": {},
   "outputs": [],
   "source": [
    "import numpy as np\n",
    "import pandas as pd\n",
    "from sklearn.model_selection import train_test_split, GridSearchCV\n",
    "from sklearn.preprocessing import StandardScaler\n",
    "from sklearn.linear_model import LogisticRegression\n",
    "from sklearn.metrics import accuracy_score, classification_report\n",
    "from sklearn.preprocessing import LabelEncoder\n",
    "\n",
    "# Load the wine dataset\n",
    "wine_df = pd.read_csv(\"C:\\\\Users\\\\jessi\\\\OneDrive\\\\Documents\\\\Dorset\\\\Data Analysis\\\\winequality-red\\\\winequality-red.csv\",sep=';')"
   ]
  },
  {
   "cell_type": "code",
   "execution_count": 6,
   "id": "890f2389",
   "metadata": {},
   "outputs": [],
   "source": [
    "# Categorize the quality column into low, medium, and high\n",
    "wine_df['review'] = pd.cut(wine_df['quality'], bins=[0, 5, 6, 10], labels=['low', 'medium', 'high'])\n",
    "\n",
    "# Drop the original quality column\n",
    "wine_df.drop('quality', axis=1, inplace=True)\n",
    "\n",
    "# Encode the review column\n",
    "label_encoder = LabelEncoder()\n",
    "wine_df['review'] = label_encoder.fit_transform(wine_df['review'])"
   ]
  },
  {
   "cell_type": "markdown",
   "id": "64073c07",
   "metadata": {},
   "source": [
    "# Train-test split and logistic regression"
   ]
  },
  {
   "cell_type": "code",
   "execution_count": 3,
   "id": "cb0a9ea3",
   "metadata": {},
   "outputs": [
    {
     "name": "stdout",
     "output_type": "stream",
     "text": [
      "Accuracy: 0.625\n",
      "\n",
      "Classification Report:\n",
      "              precision    recall  f1-score   support\n",
      "\n",
      "           0       0.58      0.32      0.41        47\n",
      "           1       0.68      0.79      0.73       141\n",
      "           2       0.56      0.55      0.56       132\n",
      "\n",
      "    accuracy                           0.62       320\n",
      "   macro avg       0.61      0.56      0.57       320\n",
      "weighted avg       0.62      0.62      0.61       320\n",
      "\n"
     ]
    }
   ],
   "source": [
    "# Separate features (X) and target variable (y)\n",
    "X = wine_df.drop('review', axis=1)\n",
    "y = wine_df['review']\n",
    "\n",
    "\n",
    "\n",
    "# Split the data into training and testing sets\n",
    "X_train, X_test, y_train, y_test = train_test_split(X, y, test_size=0.2, random_state=42)\n",
    "\n",
    "# Standardize features by removing the mean and scaling to unit variance\n",
    "scaler = StandardScaler()\n",
    "X_train_scaled = scaler.fit_transform(X_train)\n",
    "X_test_scaled = scaler.transform(X_test)\n",
    "\n",
    "# Apply logistic regression\n",
    "logistic_reg = LogisticRegression(max_iter=1000, random_state=42)\n",
    "logistic_reg.fit(X_train_scaled, y_train)\n",
    "\n",
    "# Predict the classes for test set\n",
    "y_pred = logistic_reg.predict(X_test_scaled)\n",
    "\n",
    "# Evaluate the model\n",
    "accuracy = accuracy_score(y_test, y_pred)\n",
    "print(\"Accuracy:\", accuracy)\n",
    "\n",
    "# Generate a classification report\n",
    "print(\"\\nClassification Report:\")\n",
    "print(classification_report(y_test, y_pred))\n",
    "\n"
   ]
  },
  {
   "cell_type": "code",
   "execution_count": 4,
   "id": "4c5e3d90",
   "metadata": {},
   "outputs": [
    {
     "name": "stdout",
     "output_type": "stream",
     "text": [
      "Best Parameters: {'C': 1, 'solver': 'newton-cg'}\n",
      "Best Cross-Validation Score: 0.6357138480392157\n",
      "\n",
      "Accuracy: 0.625\n",
      "\n",
      "Classification Report:\n",
      "              precision    recall  f1-score   support\n",
      "\n",
      "           0       0.58      0.32      0.41        47\n",
      "           1       0.68      0.79      0.73       141\n",
      "           2       0.56      0.55      0.56       132\n",
      "\n",
      "    accuracy                           0.62       320\n",
      "   macro avg       0.61      0.56      0.57       320\n",
      "weighted avg       0.62      0.62      0.61       320\n",
      "\n"
     ]
    },
    {
     "data": {
      "text/plain": [
       "['wine_quality_classification_model.pkl']"
      ]
     },
     "execution_count": 4,
     "metadata": {},
     "output_type": "execute_result"
    }
   ],
   "source": [
    "# Define the parameter grid for grid search\n",
    "param_grid = {\n",
    "    'C': [0.001, 0.01, 0.1, 1, 10, 100],\n",
    "    'solver': ['newton-cg', 'lbfgs', 'liblinear', 'sag', 'saga']\n",
    "}\n",
    "\n",
    "# Create a logistic regression model\n",
    "logistic_reg = LogisticRegression(max_iter=1000, random_state=42)\n",
    "\n",
    "# Perform grid search cross-validation\n",
    "grid_search = GridSearchCV(logistic_reg, param_grid, cv=5, scoring='accuracy')\n",
    "grid_search.fit(X_train_scaled, y_train)\n",
    "\n",
    "# Get the best parameters and best score\n",
    "best_params = grid_search.best_params_\n",
    "best_score = grid_search.best_score_\n",
    "print(\"Best Parameters:\", best_params)\n",
    "print(\"Best Cross-Validation Score:\", best_score)\n",
    "\n",
    "# Predict the classes for test set using the best model\n",
    "best_model = grid_search.best_estimator_\n",
    "y_pred = best_model.predict(X_test_scaled)\n",
    "\n",
    "# Evaluate the best model\n",
    "accuracy = accuracy_score(y_test, y_pred)\n",
    "print(\"\\nAccuracy:\", accuracy)\n",
    "\n",
    "# Generate a classification report for the best model\n",
    "print(\"\\nClassification Report:\")\n",
    "print(classification_report(y_test, y_pred))\n",
    "\n",
    "# Save the best model\n",
    "import joblib\n",
    "joblib.dump(best_model, \"wine_quality_classification_model.pkl\")"
   ]
  }
 ],
 "metadata": {
  "kernelspec": {
   "display_name": "Python 3 (ipykernel)",
   "language": "python",
   "name": "python3"
  },
  "language_info": {
   "codemirror_mode": {
    "name": "ipython",
    "version": 3
   },
   "file_extension": ".py",
   "mimetype": "text/x-python",
   "name": "python",
   "nbconvert_exporter": "python",
   "pygments_lexer": "ipython3",
   "version": "3.9.13"
  }
 },
 "nbformat": 4,
 "nbformat_minor": 5
}
